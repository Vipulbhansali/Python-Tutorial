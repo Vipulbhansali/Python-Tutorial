{
 "cells": [
  {
   "cell_type": "code",
   "execution_count": 2,
   "id": "fe55bba2",
   "metadata": {},
   "outputs": [],
   "source": [
    "import numpy as np\n",
    "import pandas as pd"
   ]
  },
  {
   "cell_type": "code",
   "execution_count": 2,
   "id": "54288960",
   "metadata": {},
   "outputs": [
    {
     "name": "stdout",
     "output_type": "stream",
     "text": [
      "1D Array:\n",
      "[1 2 3 4 5]\n"
     ]
    }
   ],
   "source": [
    "arr_1d = np.array([1, 2, 3, 4, 5])\n",
    "print(\"1D Array:\")\n",
    "print(arr_1d)"
   ]
  },
  {
   "cell_type": "code",
   "execution_count": 3,
   "id": "ef0f0215",
   "metadata": {},
   "outputs": [
    {
     "name": "stdout",
     "output_type": "stream",
     "text": [
      "\n",
      "2D Array:\n",
      "[[1 2 3]\n",
      " [4 5 6]]\n"
     ]
    }
   ],
   "source": [
    "# 2D array\n",
    "arr_2d = np.array([[1, 2, 3], [4, 5, 6]])\n",
    "print(\"\\n2D Array:\")\n",
    "print(arr_2d)"
   ]
  },
  {
   "cell_type": "code",
   "execution_count": 4,
   "id": "51348414",
   "metadata": {},
   "outputs": [
    {
     "name": "stdout",
     "output_type": "stream",
     "text": [
      "[[[1 2]\n",
      "  [3 4]]\n",
      "\n",
      " [[5 6]\n",
      "  [7 8]]]\n"
     ]
    }
   ],
   "source": [
    "arr_multi = np.array([[[1, 2], [3, 4]], [[5, 6], [7, 8]]])\n",
    "print(arr_multi)"
   ]
  },
  {
   "cell_type": "code",
   "execution_count": 5,
   "id": "e685c32b",
   "metadata": {},
   "outputs": [
    {
     "name": "stdout",
     "output_type": "stream",
     "text": [
      "[[0. 0. 0.]\n",
      " [0. 0. 0.]\n",
      " [0. 0. 0.]]\n"
     ]
    }
   ],
   "source": [
    "zeros_arr = np.zeros((3, 3))\n",
    "print(zeros_arr)"
   ]
  },
  {
   "cell_type": "code",
   "execution_count": 6,
   "id": "21972e00",
   "metadata": {},
   "outputs": [
    {
     "name": "stdout",
     "output_type": "stream",
     "text": [
      "[[1. 1. 1.]\n",
      " [1. 1. 1.]]\n"
     ]
    }
   ],
   "source": [
    "ones = np.ones((2,3))\n",
    "print(ones)"
   ]
  },
  {
   "cell_type": "code",
   "execution_count": 8,
   "id": "60689cd1",
   "metadata": {},
   "outputs": [
    {
     "name": "stdout",
     "output_type": "stream",
     "text": [
      "[[0.40125538 0.72121558]\n",
      " [0.61013826 0.72745922]]\n"
     ]
    }
   ],
   "source": [
    "random = np.random.random((2, 2))\n",
    "print(random)"
   ]
  },
  {
   "cell_type": "code",
   "execution_count": 14,
   "id": "1bb95336",
   "metadata": {},
   "outputs": [
    {
     "name": "stdout",
     "output_type": "stream",
     "text": [
      "[0 2 4 6 8]\n",
      "[ 0  1  2  3  4  5  6  7  8  9 10 11]\n"
     ]
    }
   ],
   "source": [
    "range = np.arange(0,10,2) #2 is step here\n",
    "print(range)\n",
    "# Create a 1D array with 12 elements\n",
    "range2=np.arange(12)\n",
    "print(range2)"
   ]
  },
  {
   "cell_type": "code",
   "execution_count": 11,
   "id": "eefac7cf",
   "metadata": {},
   "outputs": [
    {
     "name": "stdout",
     "output_type": "stream",
     "text": [
      "[0.         0.55555556 1.11111111 1.66666667 2.22222222 2.77777778\n",
      " 3.33333333 3.88888889 4.44444444 5.        ]\n"
     ]
    }
   ],
   "source": [
    "linspace = np.linspace(0, 5, 10) # 10 is no. of values \n",
    "print(linspace)"
   ]
  },
  {
   "cell_type": "code",
   "execution_count": 13,
   "id": "04a564db",
   "metadata": {},
   "outputs": [
    {
     "name": "stdout",
     "output_type": "stream",
     "text": [
      "[[69  9 76 18 34 96]\n",
      " [72 48 98 96 77 67]]\n"
     ]
    }
   ],
   "source": [
    "random_int_arr = np.random.randint(1, 100, (2, 6))\n",
    "print(random_int_arr)"
   ]
  },
  {
   "cell_type": "code",
   "execution_count": 21,
   "id": "42455627",
   "metadata": {},
   "outputs": [
    {
     "name": "stdout",
     "output_type": "stream",
     "text": [
      "[10 15 20 25 30 35 40 45]\n"
     ]
    }
   ],
   "source": [
    "a = np.arange(10,50,5)\n",
    "print(a)"
   ]
  },
  {
   "cell_type": "code",
   "execution_count": 24,
   "id": "55dc70d5",
   "metadata": {},
   "outputs": [
    {
     "name": "stdout",
     "output_type": "stream",
     "text": [
      "[[10 15 20 25]\n",
      " [30 35 40 45]]\n"
     ]
    }
   ],
   "source": [
    "b = a.reshape(2,4)\n",
    "print(b)"
   ]
  },
  {
   "cell_type": "markdown",
   "id": "1ad386f3",
   "metadata": {},
   "source": [
    "# RESHAPING AND RESIZING "
   ]
  },
  {
   "cell_type": "code",
   "execution_count": 3,
   "id": "2ca089b5",
   "metadata": {},
   "outputs": [
    {
     "name": "stdout",
     "output_type": "stream",
     "text": [
      "[[1 2 3]\n",
      " [4 5 6]]\n"
     ]
    }
   ],
   "source": [
    "# Create a 1D array\n",
    "arr_1d = np.arange(1, 7)  # [1, 2, 3, 4, 5, 6]\n",
    "\n",
    "# Reshape the 1D array into a 2D array\n",
    "arr_2d = arr_1d.reshape(2, 3)\n",
    "print(arr_2d)"
   ]
  },
  {
   "cell_type": "code",
   "execution_count": 4,
   "id": "b3e3f969",
   "metadata": {},
   "outputs": [
    {
     "name": "stdout",
     "output_type": "stream",
     "text": [
      "[1 2 3 4 5 0 0 0]\n"
     ]
    }
   ],
   "source": [
    "# Create a 1D array\n",
    "arr_1d = np.array([1, 2, 3, 4, 5])\n",
    "\n",
    "# Resize the array to have 8 elements\n",
    "arr_1d.resize(8)\n",
    "print(arr_1d)"
   ]
  },
  {
   "cell_type": "code",
   "execution_count": 5,
   "id": "5d24461b",
   "metadata": {},
   "outputs": [
    {
     "name": "stdout",
     "output_type": "stream",
     "text": [
      "[1 2 3 4 5 6]\n"
     ]
    }
   ],
   "source": [
    "# Create a 2D array\n",
    "arr_2d = np.array([[1, 2, 3],\n",
    "                   [4, 5, 6]])\n",
    "\n",
    "# Flatten the 2D array\n",
    "arr_flat = arr_2d.flatten()\n",
    "print(arr_flat)"
   ]
  },
  {
   "cell_type": "code",
   "execution_count": 6,
   "id": "2d19df63",
   "metadata": {},
   "outputs": [
    {
     "name": "stdout",
     "output_type": "stream",
     "text": [
      "Flattened 2D array:\n",
      "[1 2 3 4 5 6]\n"
     ]
    }
   ],
   "source": [
    "import numpy as np\n",
    "\n",
    "# Create a 2D array\n",
    "arr_2d = np.array([[1, 2, 3],\n",
    "                   [4, 5, 6]])\n",
    "\n",
    "# Flatten the 2D array using ravel()\n",
    "arr_flat = np.ravel(arr_2d)\n",
    "print(\"Flattened 2D array:\")\n",
    "print(arr_flat)"
   ]
  },
  {
   "cell_type": "markdown",
   "id": "8a9e7c7c",
   "metadata": {},
   "source": [
    "# Array Concatenation and Splitting"
   ]
  },
  {
   "cell_type": "code",
   "execution_count": 7,
   "id": "ececb7da",
   "metadata": {},
   "outputs": [
    {
     "name": "stdout",
     "output_type": "stream",
     "text": [
      "Concatenated along axis 0 (rows):\n",
      "[[1 2]\n",
      " [3 4]\n",
      " [5 6]]\n",
      "\n",
      "Concatenated along axis 1 (columns):\n",
      "[[1 2 5]\n",
      " [3 4 6]]\n"
     ]
    }
   ],
   "source": [
    "import numpy as np\n",
    "\n",
    "# Create two 2D arrays\n",
    "arr1 = np.array([[1, 2],\n",
    "                 [3, 4]])\n",
    "\n",
    "arr2 = np.array([[5, 6]])\n",
    "\n",
    "# Concatenate along axis 0 (rows)\n",
    "concatenated_rows = np.concatenate((arr1, arr2), axis=0)\n",
    "print(\"Concatenated along axis 0 (rows):\")\n",
    "print(concatenated_rows)\n",
    "\n",
    "# Concatenate along axis 1 (columns)\n",
    "concatenated_columns = np.concatenate((arr1, arr2.T), axis=1)\n",
    "print(\"\\nConcatenated along axis 1 (columns):\")\n",
    "print(concatenated_columns)\n"
   ]
  },
  {
   "cell_type": "code",
   "execution_count": 8,
   "id": "5905925a",
   "metadata": {},
   "outputs": [
    {
     "name": "stdout",
     "output_type": "stream",
     "text": [
      "Vertically concatenated arrays:\n",
      "[[1 2]\n",
      " [3 4]]\n",
      "\n",
      "Horizontally concatenated arrays:\n",
      "[1 2 3 4]\n"
     ]
    }
   ],
   "source": [
    "# Create two 1D arrays\n",
    "arr3 = np.array([1, 2])\n",
    "arr4 = np.array([3, 4])\n",
    "\n",
    "# Vertically stack arrays (concatenate along axis 0)\n",
    "concatenated_vertically = np.vstack((arr3, arr4))\n",
    "print(\"Vertically concatenated arrays:\")\n",
    "print(concatenated_vertically)\n",
    "\n",
    "# Horizontally stack arrays (concatenate along axis 1)\n",
    "concatenated_horizontally = np.hstack((arr3, arr4))\n",
    "print(\"\\nHorizontally concatenated arrays:\")\n",
    "print(concatenated_horizontally)\n"
   ]
  },
  {
   "cell_type": "code",
   "execution_count": 9,
   "id": "950998c8",
   "metadata": {},
   "outputs": [
    {
     "name": "stdout",
     "output_type": "stream",
     "text": [
      "Split array into three parts:\n",
      "[array([1, 2]), array([3, 4]), array([5, 6])]\n"
     ]
    }
   ],
   "source": [
    "# Create a 1D array\n",
    "arr5 = np.array([1, 2, 3, 4, 5, 6])\n",
    "\n",
    "# Split the array into three equal-sized arrays\n",
    "split_result = np.split(arr5, 3)\n",
    "print(\"Split array into three parts:\")\n",
    "print(split_result)\n"
   ]
  },
  {
   "cell_type": "code",
   "execution_count": 10,
   "id": "f3b16b35",
   "metadata": {},
   "outputs": [
    {
     "name": "stdout",
     "output_type": "stream",
     "text": [
      "Vertically split array:\n",
      "[array([[1, 2, 3]]), array([[4, 5, 6]]), array([[7, 8, 9]])]\n",
      "\n",
      "Horizontally split array:\n",
      "[array([[1],\n",
      "       [4],\n",
      "       [7]]), array([[2],\n",
      "       [5],\n",
      "       [8]]), array([[3],\n",
      "       [6],\n",
      "       [9]])]\n"
     ]
    }
   ],
   "source": [
    "# Create a 2D array\n",
    "arr6 = np.array([[1, 2, 3],\n",
    "                 [4, 5, 6],\n",
    "                 [7, 8, 9]])\n",
    "\n",
    "# Vertically split the array into two parts\n",
    "vertical_split = np.vsplit(arr6, 3)\n",
    "print(\"Vertically split array:\")\n",
    "print(vertical_split)\n",
    "\n",
    "# Horizontally split the array into three parts\n",
    "horizontal_split = np.hsplit(arr6, 3)\n",
    "print(\"\\nHorizontally split array:\")\n",
    "print(horizontal_split)\n"
   ]
  },
  {
   "cell_type": "markdown",
   "id": "11e3786a",
   "metadata": {},
   "source": [
    "# Universal Functions (ufuncs)"
   ]
  },
  {
   "cell_type": "code",
   "execution_count": 1,
   "id": "535ce438",
   "metadata": {},
   "outputs": [
    {
     "name": "stdout",
     "output_type": "stream",
     "text": [
      "[ 6  8 10 12]\n",
      "[-4 -4 -4 -4]\n",
      "[ 5 12 21 32]\n",
      "[0.2        0.33333333 0.42857143 0.5       ]\n",
      "[ 1  4  9 16]\n"
     ]
    }
   ],
   "source": [
    "import numpy as np\n",
    "\n",
    "# Create two arrays\n",
    "arr1 = np.array([1, 2, 3, 4])\n",
    "arr2 = np.array([5, 6, 7, 8])\n",
    "\n",
    "# Addition\n",
    "print(np.add(arr1, arr2))  # Equivalent to arr1 + arr2\n",
    "\n",
    "# Subtraction\n",
    "print(np.subtract(arr1, arr2))  # Equivalent to arr1 - arr2\n",
    "\n",
    "# Multiplication\n",
    "print(np.multiply(arr1, arr2))  # Equivalent to arr1 * arr2\n",
    "\n",
    "# Division\n",
    "print(np.divide(arr1, arr2))  # Equivalent to arr1 / arr2\n",
    "\n",
    "# Exponentiation\n",
    "print(np.power(arr1, 2))  # Equivalent to arr1 ** 2\n"
   ]
  },
  {
   "cell_type": "markdown",
   "id": "12130b4e",
   "metadata": {},
   "source": [
    "Bitwise Functions: These functions operate bitwise on integer arrays.\n",
    "\n",
    "np.bitwise_and()\n",
    "np.bitwise_or()\n",
    "np.bitwise_xor()\n",
    "np.bitwise_not()\n",
    "\n",
    "Special Functions: These functions include mathematical special functions like gamma, error, and hyperbolic functions.\n",
    "\n",
    "np.gamma()\n",
    "np.erf()\n",
    "np.arcsinh()\n",
    "\n",
    "Rounding Functions: These functions round elements of an array to the nearest integer or to a specified number of decimals.\n",
    "\n",
    "np.round()\n",
    "np.floor()\n",
    "np.ceil()\n",
    "\n",
    "Statistical Functions: These functions compute statistical measures like mean, median, standard deviation, variance, and more.\n",
    "\n",
    "np.mean()\n",
    "np.median()\n",
    "np.std()\n",
    "np.var()\n",
    "\n",
    "Array Comparison Functions: These functions compare arrays element-wise and return boolean arrays indicating the result of the comparison.\n",
    "\n",
    "np.isclose()\n",
    "np.allclose()\n",
    "\n",
    "Logical Functions: These functions perform logical operations on arrays.\n",
    "\n",
    "np.logical_and()\n",
    "np.logical_or()\n",
    "np.logical_not()"
   ]
  },
  {
   "cell_type": "markdown",
   "id": "7895bd18",
   "metadata": {},
   "source": [
    "# BROADCASTING"
   ]
  },
  {
   "cell_type": "markdown",
   "id": "3d4f878d",
   "metadata": {},
   "source": [
    " Broadcasting is a powerful feature in NumPy that allows arrays with different shapes to be combined, enabling element-wise operations even when the arrays have different dimensions. This capability simplifies code and makes it more concise by eliminating the need for explicit looping structures. \n",
    " \n",
    "Basic Broadcasting Rules:\n",
    "\n",
    "Broadcasting follows certain rules to determine how arrays with different shapes are treated during operations:\n",
    "\n",
    "Rule 1: Dimensions Compatibility: If the arrays have a different number of dimensions, the shape of the smaller array is padded with ones on its left side to match the number of dimensions of the larger array.\n",
    "\n",
    "Rule 2: Shape Compatibility: The dimensions of the two arrays are compared element-wise. Two dimensions are compatible when they are equal, or one of them is 1. If these conditions are not met, a ValueError is raised.\n",
    "\n",
    "Rule 3: Size Compatibility: Arrays must have the same number of elements after broadcasting."
   ]
  },
  {
   "cell_type": "code",
   "execution_count": 2,
   "id": "ee2a0f4f",
   "metadata": {},
   "outputs": [
    {
     "name": "stdout",
     "output_type": "stream",
     "text": [
      "arr1 shape: (3,)\n",
      "arr2 shape: (3, 1)\n",
      "Result shape: (3, 3)\n",
      "Result array:\n",
      " [[11 12 13]\n",
      " [21 22 23]\n",
      " [31 32 33]]\n"
     ]
    }
   ],
   "source": [
    "#Rule 1\n",
    "\n",
    "import numpy as np\n",
    "\n",
    "# Create arrays\n",
    "arr1 = np.array([1, 2, 3])  # Shape: (3,)\n",
    "arr2 = np.array([[10], [20], [30]])  # Shape: (3, 1)\n",
    "\n",
    "# Perform element-wise addition\n",
    "result = arr1 + arr2\n",
    "\n",
    "print(\"arr1 shape:\", arr1.shape)\n",
    "print(\"arr2 shape:\", arr2.shape)\n",
    "print(\"Result shape:\", result.shape)\n",
    "print(\"Result array:\\n\", result)\n"
   ]
  },
  {
   "cell_type": "code",
   "execution_count": 3,
   "id": "15fa1aa6",
   "metadata": {},
   "outputs": [
    {
     "name": "stdout",
     "output_type": "stream",
     "text": [
      "arr3 shape: (1, 3)\n",
      "arr4 shape: (2, 1)\n",
      "Result shape: (2, 3)\n",
      "Result array:\n",
      " [[11 12 13]\n",
      " [21 22 23]]\n"
     ]
    }
   ],
   "source": [
    "#RULE 2\n",
    "\n",
    "# Create arrays\n",
    "arr3 = np.array([[1, 2, 3]])  # Shape: (1, 3)\n",
    "arr4 = np.array([[10], [20]])  # Shape: (2, 1)\n",
    "\n",
    "# Perform element-wise addition\n",
    "result = arr3 + arr4\n",
    "\n",
    "print(\"arr3 shape:\", arr3.shape)\n",
    "print(\"arr4 shape:\", arr4.shape)\n",
    "print(\"Result shape:\", result.shape)\n",
    "print(\"Result array:\\n\", result)\n"
   ]
  },
  {
   "cell_type": "code",
   "execution_count": 4,
   "id": "2877e8b3",
   "metadata": {},
   "outputs": [
    {
     "name": "stdout",
     "output_type": "stream",
     "text": [
      "arr5 shape: (3,)\n",
      "arr6 shape: (2, 3)\n",
      "Result shape: (2, 3)\n",
      "Result array:\n",
      " [[11 22 33]\n",
      " [41 52 63]]\n"
     ]
    }
   ],
   "source": [
    "#RULE 3\n",
    "\n",
    "# Create arrays\n",
    "arr5 = np.array([1, 2, 3])  # Shape: (3,)\n",
    "arr6 = np.array([[10, 20, 30], [40, 50, 60]])  # Shape: (2, 3)\n",
    "\n",
    "# Perform element-wise addition\n",
    "result = arr5 + arr6\n",
    "\n",
    "print(\"arr5 shape:\", arr5.shape)\n",
    "print(\"arr6 shape:\", arr6.shape)\n",
    "print(\"Result shape:\", result.shape)\n",
    "print(\"Result array:\\n\", result)\n"
   ]
  },
  {
   "cell_type": "markdown",
   "id": "765d703a",
   "metadata": {},
   "source": [
    "# Array Iteration "
   ]
  },
  {
   "cell_type": "code",
   "execution_count": 5,
   "id": "22dba89e",
   "metadata": {},
   "outputs": [
    {
     "name": "stdout",
     "output_type": "stream",
     "text": [
      "1\n",
      "2\n",
      "3\n",
      "4\n",
      "5\n",
      "6\n"
     ]
    }
   ],
   "source": [
    "import numpy as np\n",
    "\n",
    "arr = np.array([[1, 2, 3],\n",
    "                [4, 5, 6]])\n",
    "\n",
    "# Iterate through each element\n",
    "for row in arr:\n",
    "    for elem in row:\n",
    "        print(elem)\n"
   ]
  },
  {
   "cell_type": "code",
   "execution_count": 6,
   "id": "eded6057",
   "metadata": {},
   "outputs": [
    {
     "name": "stdout",
     "output_type": "stream",
     "text": [
      "[[ 1  4  9]\n",
      " [16 25 36]]\n"
     ]
    }
   ],
   "source": [
    "# Applying a function to each element\n",
    "arr_squared = np.square(arr)\n",
    "print(arr_squared)\n"
   ]
  },
  {
   "cell_type": "code",
   "execution_count": 7,
   "id": "27bf5cf3",
   "metadata": {},
   "outputs": [
    {
     "name": "stdout",
     "output_type": "stream",
     "text": [
      "[5 7 9]\n"
     ]
    }
   ],
   "source": [
    "# Compute the sum of each column\n",
    "column_sums = np.sum(arr, axis=0)\n",
    "print(column_sums)\n"
   ]
  },
  {
   "cell_type": "code",
   "execution_count": 8,
   "id": "1e556eda",
   "metadata": {},
   "outputs": [
    {
     "name": "stdout",
     "output_type": "stream",
     "text": [
      "1\n",
      "2\n",
      "3\n",
      "4\n",
      "5\n",
      "6\n"
     ]
    }
   ],
   "source": [
    "# Using nditer to iterate over array elements\n",
    "for elem in np.nditer(arr):\n",
    "    print(elem)\n"
   ]
  },
  {
   "cell_type": "markdown",
   "id": "c1b64d0f",
   "metadata": {},
   "source": [
    "# Array Sorting & Searching"
   ]
  },
  {
   "cell_type": "code",
   "execution_count": 9,
   "id": "a2d46901",
   "metadata": {},
   "outputs": [
    {
     "name": "stdout",
     "output_type": "stream",
     "text": [
      "[[1 2 3]\n",
      " [4 5 6]]\n"
     ]
    }
   ],
   "source": [
    "import numpy as np\n",
    "\n",
    "arr = np.array([[3, 2, 1],\n",
    "                [6, 5, 4]])\n",
    "\n",
    "sorted_arr = np.sort(arr)\n",
    "print(sorted_arr)\n"
   ]
  },
  {
   "cell_type": "code",
   "execution_count": 10,
   "id": "2b298a2f",
   "metadata": {},
   "outputs": [
    {
     "name": "stdout",
     "output_type": "stream",
     "text": [
      "[[2 1 0]\n",
      " [2 1 0]]\n"
     ]
    }
   ],
   "source": [
    "indices = np.argsort(arr)\n",
    "print(indices)\n"
   ]
  },
  {
   "cell_type": "code",
   "execution_count": 12,
   "id": "ffee714f",
   "metadata": {},
   "outputs": [
    {
     "name": "stdout",
     "output_type": "stream",
     "text": [
      "(array([1, 1, 1], dtype=int64), array([0, 1, 2], dtype=int64))\n"
     ]
    }
   ],
   "source": [
    "indices = np.where(arr > 3)\n",
    "print(indices)\n",
    "\n",
    "# np.where(), np.argmax(), and np.argmin() gives value of index"
   ]
  },
  {
   "cell_type": "markdown",
   "id": "7e2d3cc9",
   "metadata": {},
   "source": [
    "# MEMORY OPTIMIZATION"
   ]
  },
  {
   "cell_type": "markdown",
   "id": "ecb88db8",
   "metadata": {},
   "source": [
    "Memory Layout and Performance:\n",
    "Understanding memory layout is important for optimizing performance, especially when working with large arrays. Here are a few points to consider:\n",
    "\n",
    "\n",
    "Memory Contiguity: In row-major order, elements within the same row are contiguous in memory, while in column-major order, elements within the same column are contiguous.\n",
    "\n",
    "Cache Efficiency: Accessing contiguous memory regions improves cache efficiency, which can lead to better performance.\n",
    "\n",
    "Operations Performance: Certain operations may perform better with arrays stored in a particular memory layout. For example, matrix multiplication may benefit from column-major order.\n",
    "\n",
    "1. Row-Major (C-style) Order:\n",
    "In row-major order, also known as C-style order, elements of the array are stored row by row in memory. In a two-dimensional array, the elements of the first row are stored first, followed by the second row, and so on.\n",
    "\n",
    "2. Column-Major (Fortran-style) Order:\n",
    "In column-major order, also known as Fortran-style order, elements of the array are stored column by column in memory. In a two-dimensional array, the elements of the first column are stored first, followed by the second column, and so on."
   ]
  },
  {
   "cell_type": "code",
   "execution_count": null,
   "id": "57a68d14",
   "metadata": {},
   "outputs": [],
   "source": []
  },
  {
   "cell_type": "code",
   "execution_count": null,
   "id": "7ef903f1",
   "metadata": {},
   "outputs": [],
   "source": []
  },
  {
   "cell_type": "code",
   "execution_count": null,
   "id": "49199752",
   "metadata": {},
   "outputs": [],
   "source": []
  },
  {
   "cell_type": "code",
   "execution_count": null,
   "id": "80cb0b93",
   "metadata": {},
   "outputs": [],
   "source": []
  },
  {
   "cell_type": "code",
   "execution_count": null,
   "id": "113c1a68",
   "metadata": {},
   "outputs": [],
   "source": []
  },
  {
   "cell_type": "code",
   "execution_count": null,
   "id": "31e3397f",
   "metadata": {},
   "outputs": [],
   "source": []
  }
 ],
 "metadata": {
  "kernelspec": {
   "display_name": "Python 3 (ipykernel)",
   "language": "python",
   "name": "python3"
  },
  "language_info": {
   "codemirror_mode": {
    "name": "ipython",
    "version": 3
   },
   "file_extension": ".py",
   "mimetype": "text/x-python",
   "name": "python",
   "nbconvert_exporter": "python",
   "pygments_lexer": "ipython3",
   "version": "3.10.9"
  }
 },
 "nbformat": 4,
 "nbformat_minor": 5
}
